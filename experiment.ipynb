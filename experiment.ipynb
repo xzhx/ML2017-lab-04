{
 "cells": [
  {
   "cell_type": "code",
   "execution_count": 1,
   "metadata": {
    "collapsed": true
   },
   "outputs": [],
   "source": [
    "#从文件中读入训练集和测试集数据\n",
    "import numpy as np\n",
    "X_train = np.loadtxt('u1.base')\n",
    "X_train = X_train[:,0:3]\n",
    "X_test = np.loadtxt('u1.test')\n",
    "X_test = X_test[:,0:3]"
   ]
  },
  {
   "cell_type": "code",
   "execution_count": 2,
   "metadata": {
    "collapsed": true
   },
   "outputs": [],
   "source": [
    "#根据训练集数据填充原始评分矩阵R_train\n",
    "R_train=np.zeros((943,1682))\n",
    "for i in range(8000):\n",
    "    uid=X_train[i,0]\n",
    "    iid=X_train[i,1]\n",
    "    rating=X_train[i,2]\n",
    "    R_train[int(uid-1),int(iid-1)]=rating"
   ]
  },
  {
   "cell_type": "code",
   "execution_count": 3,
   "metadata": {
    "collapsed": true
   },
   "outputs": [],
   "source": [
    "#根据测试集数据填充原始评分矩阵R_test\n",
    "R_test=np.zeros((943,1682))\n",
    "for i in range(8000):\n",
    "    uid=X_test[i,0]\n",
    "    iid=X_test[i,1]\n",
    "    rating=X_test[i,2]\n",
    "    R_test[int(uid-1),int(iid-1)]=rating"
   ]
  },
  {
   "cell_type": "code",
   "execution_count": 4,
   "metadata": {
    "collapsed": true
   },
   "outputs": [],
   "source": [
    "#定义loss函数\n",
    "def loss(R,P,Q,lamda=0.02):\n",
    "    e=0\n",
    "    for i in range(len(R)):\n",
    "        for j in range(len(R[i])):\n",
    "            if R[i][j] > 0:\n",
    "                e = e + pow(R[i][j] - np.dot(P[i,:],Q[:,j]), 2)\n",
    "                for k in range(K):\n",
    "                    e = e + lamda * (pow(P[i][k],2) + pow(Q[k][j],2))\n",
    "    return e"
   ]
  },
  {
   "cell_type": "code",
   "execution_count": 25,
   "metadata": {
    "collapsed": true
   },
   "outputs": [],
   "source": [
    "#定义训练函数\n",
    "def matrix_factorization(R, R_t, P, Q, K, steps=1000, alpha=0.001, lamda=0.02, slowRate = 0.99):\n",
    "    Loss=np.zeros((steps,1)) #初始化Loss\n",
    "    num_it=0 #最终循环次数\n",
    "    preRmse = 10000000.0 #初始化一个大一点的数\n",
    "    for step in range(steps):\n",
    "        for i in range(len(R)):\n",
    "            for j in range(len(R[i])):\n",
    "                if R[i][j] > 0:\n",
    "                    eij = R[i][j] - np.dot(P[i,:],Q[:,j])\n",
    "                    for k in range(K):\n",
    "                        P[i][k] = P[i][k] + alpha * (eij * Q[k][j] - lamda * P[i][k])\n",
    "                        Q[k][j] = Q[k][j] + alpha * (eij * P[i][k] - lamda * Q[k][j])\n",
    "        nowRmse=loss(R_t,P,Q) #计算根据本次循环得到的P，Q在测试集上的loss\n",
    "        if nowRmse<preRmse: #如果本次循环得到的loss小于之前的loss，就更新之前的loss值\n",
    "            preRmse = nowRmse\n",
    "        elif nowRmse-preRmse<=0.01: #如果本次循环得到的loss比之前的loss增加量小于0.01，则记录最终循环次数为本次循环，跳出循环\n",
    "            num_it=step\n",
    "            break\n",
    "        #在前面两种情况之外的，即本次的loss比之前loss大了超过0.01，意味着alpha过大，所以用alpha*=slowRate来减小alpha\n",
    "        Loss[step]=nowRmse\n",
    "        alpha*=slowRate\n",
    "        num_it=steps\n",
    "\n",
    "    return P, Q, Loss, num_it"
   ]
  },
  {
   "cell_type": "code",
   "execution_count": 26,
   "metadata": {
    "collapsed": true
   },
   "outputs": [],
   "source": [
    "K=3\n",
    "P = np.random.rand(943,3)\n",
    "Q = np.random.rand(3,1682) \n",
    "# 将X_train，X_test，随机初始化的P和Q，还有K传入训练函数进行训练\n",
    "nP,nQ,L,n_it=matrix_factorization(R_train,R_test,P,Q,K)"
   ]
  },
  {
   "cell_type": "code",
   "execution_count": 30,
   "metadata": {},
   "outputs": [
    {
     "data": {
      "image/png": "[encoded data removed]",
      "text/plain": [
       "<matplotlib.figure.Figure at 0x276fd85ed68>"
      ]
     },
     "metadata": {},
     "output_type": "display_data"
    }
   ],
   "source": [
    "#绘制Loss随迭代次数变化的曲线图\n",
    "import matplotlib.pyplot as plt\n",
    "x=np.arange(0,n_it,1)\n",
    "plt.rcParams['figure.figsize'] = (10.0, 8.0)\n",
    "plt.plot(x,L)\n",
    "plt.xlabel('Num of iterations')\n",
    "plt.ylabel('Loss')\n",
    "plt.show()"
   ]
  },
  {
   "cell_type": "code",
   "execution_count": 31,
   "metadata": {},
   "outputs": [
    {
     "data": {
      "text/plain": [
       "array([[ 4.10504774,  3.12790163,  3.05809575, ...,  1.82131675,\n",
       "         3.12353869,  3.04121157],\n",
       "       [ 4.04741279,  3.2112296 ,  3.06324045, ...,  1.78852126,\n",
       "         3.15132262,  3.06130588],\n",
       "       [ 3.45228616,  2.53417137,  2.53820978, ...,  1.53201504,\n",
       "         2.56731712,  2.51555771],\n",
       "       ..., \n",
       "       [ 1.56403004,  1.0084095 ,  1.18580342, ...,  0.53881309,\n",
       "         0.91706856,  1.24444749],\n",
       "       [ 1.23272635,  0.89108823,  0.84058107, ...,  0.65924027,\n",
       "         1.02324255,  0.77282543],\n",
       "       [ 1.58140412,  1.4436257 ,  1.24075819, ...,  0.7386983 ,\n",
       "         1.38957536,  1.23546614]])"
      ]
     },
     "execution_count": 31,
     "metadata": {},
     "output_type": "execute_result"
    }
   ],
   "source": [
    "# 根据训练得到的nP,nQ计算最终的评分预测矩阵R_pre\n",
    "R_pre=nP.dot(nQ)\n",
    "R_pre"
   ]
  }
 ],
 "metadata": {
  "kernelspec": {
   "display_name": "Python 3",
   "language": "python",
   "name": "python3"
  },
  "language_info": {
   "codemirror_mode": {
    "name": "ipython",
    "version": 3
   },
   "file_extension": ".py",
   "mimetype": "text/x-python",
   "name": "python",
   "nbconvert_exporter": "python",
   "pygments_lexer": "ipython3",
   "version": "3.6.3"
  }
 },
 "nbformat": 4,
 "nbformat_minor": 2
}
